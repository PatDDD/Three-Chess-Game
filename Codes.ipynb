# I use Python 3
from __future__ import print_function

# Step 1: The first step is to print out a chess board before the game starts

from IPython.display import clear_output
def display_board(board):
    
    clear_output()
    print(board[7]+'|'+board[8]+'|'+board[9])
    print('-'+'-'+'-'+'-'+'-')
    print(board[4]+'|'+board[5]+'|'+board[6])
    print('-'+'-'+'-'+'-'+'-')
    print(board[1]+'|'+board[2]+'|'+board[3])
    
# Test the chess board to see if it works properly
test_board = ['#','X','O','X','O','X','O','X','O','X']
display_board(test_board)


# Step 2: We know we have two players. This step is to assign one player to use 'X' and another player to use 'O'

def player_input():
    
    marker=''
    while marker != 'X' and marker !='O':
        marker = input ('Player1: Choose X or O: ').upper()
    
    if marker == 'X':
        return ('X','O')
    else:
        return ('O','X')







