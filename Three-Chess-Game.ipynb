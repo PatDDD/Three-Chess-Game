{
 "cells": [
  {
   "cell_type": "code",
   "execution_count": 1,
   "metadata": {},
   "outputs": [],
   "source": [
    "from __future__ import print_function \n",
    "from IPython.display import clear_output"
   ]
  },
  {
   "cell_type": "markdown",
   "metadata": {},
   "source": [
    "**step 1: The first step is to set up the key board for the chess game.第一步是要把三字棋的棋盘设定好**"
   ]
  },
  {
   "cell_type": "code",
   "execution_count": 2,
   "metadata": {},
   "outputs": [],
   "source": [
    "def chess_board(board):\n",
    "    \n",
    "    clear_output()#make sure I start from empty\n",
    "    print(board[7]+'|'+board[8]+'|'+board[9])\n",
    "    print('-'+'-'+'-'+'-'+'-')\n",
    "    print(board[4]+'|'+board[5]+'|'+board[6])\n",
    "    print('-'+'-'+'-'+'-'+'-')\n",
    "    print(board[1]+'|'+board[2]+'|'+board[3])"
   ]
  },
  {
   "cell_type": "code",
   "execution_count": 3,
   "metadata": {},
   "outputs": [
    {
     "name": "stdout",
     "output_type": "stream",
     "text": [
      "X|O|X\n",
      "-----\n",
      "O|X|O\n",
      "-----\n",
      "X|O|X\n"
     ]
    }
   ],
   "source": [
    "# test whethet the chess board works properly\n",
    "\n",
    "test_board = ['#','X','O','X','O','X','O','X','O','X']#note the list start with0\n",
    "chess_board(test_board)"
   ]
  },
  {
   "cell_type": "markdown",
   "metadata": {},
   "source": [
    "**step2: after the chess board is set, I need to write a function to enable player to choose their chess type, in this case X or O. 第二步是让选手可以选择X棋或者O棋**"
   ]
  },
  {
   "cell_type": "code",
   "execution_count": 4,
   "metadata": {},
   "outputs": [],
   "source": [
    "def player_chess_type():\n",
    "    \n",
    "    marker=''\n",
    "    while marker != 'X' and marker !='O':\n",
    "        # make sure players are choosing between X and O\n",
    "        marker = input('Player 1: choose X or O: ').upper()\n",
    "    \n",
    "    if marker == 'X':\n",
    "        return ('X','O')\n",
    "    else:\n",
    "        return ('O','X')"
   ]
  },
  {
   "cell_type": "markdown",
   "metadata": {},
   "source": [
    "**step3: write a function which enables players set chess on the chess board第三步是让选手可以在棋盘上放置棋子**"
   ]
  },
  {
   "cell_type": "code",
   "execution_count": 5,
   "metadata": {},
   "outputs": [],
   "source": [
    "def chess_pen(board,marker,position):\n",
    "    board[position]=marker\n",
    "    #three elements: chess board, place, marker(#orO)"
   ]
  },
  {
   "cell_type": "markdown",
   "metadata": {},
   "source": [
    "**step4: check whether a player win or not检测有没有人赢了**"
   ]
  },
  {
   "cell_type": "code",
   "execution_count": 6,
   "metadata": {},
   "outputs": [],
   "source": [
    "def win_check(board,mark):\n",
    "    # rows\n",
    "    return (\n",
    "        (board[1]==mark and board[2]==mark and board[3]==mark) or\n",
    "        (board[4]==mark and board[5]==mark and board[6]==mark) or\n",
    "        (board[7]==mark and board[8]==mark and board[9]==mark) or\n",
    "    \n",
    "    # columns\n",
    "        (board[1]==mark and board[4]==mark and board[7]==mark) or\n",
    "        (board[2]==mark and board[5]==mark and board[8]==mark) or\n",
    "        (board[3]==mark and board[6]==mark and board[9]==mark) or\n",
    "    #diagnoals\n",
    "        (board[1]==mark and board[5]==mark and board[9]==mark) or\n",
    "        (board[3]==mark and board[5]==mark and board[7]==mark) \n",
    "    )"
   ]
  },
  {
   "cell_type": "markdown",
   "metadata": {},
   "source": [
    "**step5: order of placement 下棋的顺序**"
   ]
  },
  {
   "cell_type": "code",
   "execution_count": 7,
   "metadata": {},
   "outputs": [],
   "source": [
    "import random\n",
    "\n",
    "def play_order():\n",
    "    \n",
    "    order = random.randint(0,1)\n",
    "    \n",
    "    if order == 0:\n",
    "        return 'Player 1'\n",
    "    else:\n",
    "        return 'Player 2'"
   ]
  },
  {
   "cell_type": "markdown",
   "metadata": {},
   "source": [
    "**step6: check whether the place is available or not 检查位置上面是不是已经有棋子了**"
   ]
  },
  {
   "cell_type": "code",
   "execution_count": 9,
   "metadata": {},
   "outputs": [],
   "source": [
    "def check_board(board, position):\n",
    "    \n",
    "    return board[position]==' '"
   ]
  },
  {
   "cell_type": "markdown",
   "metadata": {},
   "source": [
    "**step7: check whether the board is full检查棋盘上面是不是下满了棋子**"
   ]
  },
  {
   "cell_type": "code",
   "execution_count": 10,
   "metadata": {},
   "outputs": [],
   "source": [
    "def check_draw(board):\n",
    "    \n",
    "    for i in range(1,10):\n",
    "        if check_board(board,i):\n",
    "            return False\n",
    "    \n",
    "    return True\n",
    "            "
   ]
  },
  {
   "cell_type": "markdown",
   "metadata": {},
   "source": [
    "**step8: write a function to ask player to set chess on the chess board 让棋手下棋，要先进行第六步进行判定**"
   ]
  },
  {
   "cell_type": "code",
   "execution_count": 13,
   "metadata": {},
   "outputs": [],
   "source": [
    "def player_choice(board):\n",
    "    position = 0\n",
    "    \n",
    "    while position not in [1,2,3,4,5,6,7,8,9] or not check_board(board,position):\n",
    "        position = int(input('Choose a posiion:(1-9) '))\n",
    "    return position"
   ]
  },
  {
   "cell_type": "markdown",
   "metadata": {},
   "source": [
    "**step9:write a function that asks the player if they want to play again 问棋手们是否要重新游戏**"
   ]
  },
  {
   "cell_type": "code",
   "execution_count": 12,
   "metadata": {},
   "outputs": [],
   "source": [
    "def replay_game():\n",
    "    return input('Player again? Enter Y or N:')"
   ]
  },
  {
   "cell_type": "markdown",
   "metadata": {},
   "source": [
    "**step10: run the game based on the functiosn we have**"
   ]
  },
  {
   "cell_type": "code",
   "execution_count": null,
   "metadata": {},
   "outputs": [
    {
     "name": "stdout",
     "output_type": "stream",
     "text": [
      "X|O|X\n",
      "-----\n",
      "X|X|O\n",
      "-----\n",
      "O|X|O\n",
      "Draw Game\n"
     ]
    }
   ],
   "source": [
    "print('Welcome to the chess game!')\n",
    "\n",
    "while True:\n",
    "    \n",
    "    #Pregame\n",
    "\n",
    "    ##set everything up (board,who first, choose markers X,O)\n",
    "    \n",
    "    place_board = [' ']*10\n",
    "    player1_marker, player2_marker = player_chess_type()\n",
    "    \n",
    "    turn = play_order() # from step 5\n",
    "    print(turn+' will go first')\n",
    "    \n",
    "    play_game = input('Ready to play? y or n?')\n",
    "    \n",
    "    if play_game == 'y':\n",
    "        game_on = True\n",
    "    else:\n",
    "        game_on = False\n",
    "        \n",
    "    ## game official starts\n",
    "    \n",
    "    while game_on:\n",
    "        if turn == 'Player 1':\n",
    "            \n",
    "            # display the board\n",
    "            chess_board(place_board) # from step 1\n",
    "            # choose a position\n",
    "            position = player_choice(place_board)# from step 8\n",
    "            # place the marker on the position\n",
    "            chess_pen(place_board, player1_marker,position)#from step 3\n",
    "            # check if won\n",
    "            if win_check(place_board,player1_marker):\n",
    "                chess_board(place_board)#from step 4\n",
    "                print('Player 1 has won')\n",
    "                game_on = False\n",
    "            else:\n",
    "                if check_draw(place_board):# from step 7\n",
    "                    chess_board(place_board)\n",
    "                    print('Draw Game')\n",
    "                    break\n",
    "                else:\n",
    "                    turn = 'Player 2'\n",
    "        else:\n",
    "            chess_board(place_board)\n",
    "            position = player_choice(place_board)\n",
    "            \n",
    "            chess_pen(place_board, player2_marker, position)\n",
    "            if win_check(place_board, player2_marker):\n",
    "                chess_board(place_board)\n",
    "                print(\"player 2 has won\")\n",
    "                game_on=False\n",
    "            else:\n",
    "                if check_draw(place_board):\n",
    "                    chess_board(place_board)\n",
    "                    print('Draw game')\n",
    "                    break\n",
    "                else:\n",
    "                    turn = 'Player 1'\n",
    "    \n",
    "    \n",
    "    if not replay_game():\n",
    "        break\n",
    "                    \n",
    "            \n",
    "    \n",
    "\n",
    "\n"
   ]
  },
  {
   "cell_type": "code",
   "execution_count": null,
   "metadata": {},
   "outputs": [],
   "source": []
  },
  {
   "cell_type": "code",
   "execution_count": null,
   "metadata": {},
   "outputs": [],
   "source": []
  },
  {
   "cell_type": "code",
   "execution_count": null,
   "metadata": {},
   "outputs": [],
   "source": []
  },
  {
   "cell_type": "code",
   "execution_count": null,
   "metadata": {},
   "outputs": [],
   "source": []
  },
  {
   "cell_type": "code",
   "execution_count": null,
   "metadata": {},
   "outputs": [],
   "source": []
  },
  {
   "cell_type": "code",
   "execution_count": null,
   "metadata": {},
   "outputs": [],
   "source": []
  },
  {
   "cell_type": "code",
   "execution_count": null,
   "metadata": {},
   "outputs": [],
   "source": []
  }
 ],
 "metadata": {
  "kernelspec": {
   "display_name": "Python [conda env:root] *",
   "language": "python",
   "name": "conda-root-py"
  },
  "language_info": {
   "codemirror_mode": {
    "name": "ipython",
    "version": 3
   },
   "file_extension": ".py",
   "mimetype": "text/x-python",
   "name": "python",
   "nbconvert_exporter": "python",
   "pygments_lexer": "ipython3",
   "version": "3.6.9"
  }
 },
 "nbformat": 4,
 "nbformat_minor": 2
}
